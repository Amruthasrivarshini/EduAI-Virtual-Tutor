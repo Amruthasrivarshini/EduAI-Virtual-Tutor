{
 "cells": [
  {
   "cell_type": "code",
   "execution_count": 1,
   "id": "6355e553",
   "metadata": {},
   "outputs": [
    {
     "name": "stdout",
     "output_type": "stream",
     "text": [
      "Requirement already satisfied: pyttsx3 in c:\\users\\amrutha\\anaconda3\\lib\\site-packages (2.98)\n",
      "Requirement already satisfied: comtypes in c:\\users\\amrutha\\anaconda3\\lib\\site-packages (from pyttsx3) (1.4.10)\n",
      "Requirement already satisfied: pypiwin32 in c:\\users\\amrutha\\anaconda3\\lib\\site-packages (from pyttsx3) (223)\n",
      "Requirement already satisfied: pywin32 in c:\\users\\amrutha\\anaconda3\\lib\\site-packages (from pyttsx3) (305.1)\n",
      "Note: you may need to restart the kernel to use updated packages.\n"
     ]
    }
   ],
   "source": [
    "pip install pyttsx3"
   ]
  },
  {
   "cell_type": "code",
   "execution_count": 2,
   "id": "429eef72",
   "metadata": {},
   "outputs": [
    {
     "name": "stdout",
     "output_type": "stream",
     "text": [
      "\n",
      " Welcome to AI-Powered Virtual Tutor \n",
      "Enter Student's Name: Rahul\n",
      "Enter Grade (e.g., Grade 1, Grade 5, Grade 10): Grade 10\n",
      "Enter Subject (Math/Science): Science\n",
      "\n",
      " Hello Rahul, here’s your lesson on Science: Explore genetics, chemical reactions, and physics laws.\n"
     ]
    }
   ],
   "source": [
    "import pyttsx3  \n",
    "education_resources = {\n",
    "    \"Math\": {\n",
    "        \"Grade 1\": \"Learn numbers, counting, and basic addition.\",\n",
    "        \"Grade 5\": \"Explore fractions, decimals, and basic algebra.\",\n",
    "        \"Grade 10\": \"Master quadratic equations, trigonometry, and probability.\"\n",
    "    },\n",
    "    \"Science\": {\n",
    "        \"Grade 1\": \"Discover plants, animals, and basic weather patterns.\",\n",
    "        \"Grade 5\": \"Understand electricity, magnetism, and simple machines.\",\n",
    "        \"Grade 10\": \"Explore genetics, chemical reactions, and physics laws.\"\n",
    "    }\n",
    "}\n",
    "def speak(text):\n",
    "    engine = pyttsx3.init()\n",
    "    engine.say(text)\n",
    "    engine.runAndWait()\n",
    "def virtual_tutor():\n",
    "    print(\"\\n Welcome to AI-Powered Virtual Tutor \")\n",
    "    name = input(\"Enter Student's Name: \")\n",
    "    grade = input(\"Enter Grade (e.g., Grade 1, Grade 5, Grade 10): \")\n",
    "    subject = input(\"Enter Subject (Math/Science): \")\n",
    "\n",
    "    if subject in education_resources and grade in education_resources[subject]:\n",
    "        lesson = education_resources[subject][grade]\n",
    "        print(f\"\\n Hello {name}, here’s your lesson on {subject}: {lesson}\")\n",
    "        speak(f\"Hello {name}, welcome to your {subject} lesson. {lesson}\")\n",
    "    else:\n",
    "        print(\"\\n⚠ Sorry, no content available for this selection.\")\n",
    "        speak(\"Sorry, no content available for this selection.\")\n",
    "virtual_tutor()"
   ]
  },
  {
   "cell_type": "code",
   "execution_count": null,
   "id": "ddf0c52b",
   "metadata": {},
   "outputs": [],
   "source": []
  }
 ],
 "metadata": {
  "kernelspec": {
   "display_name": "Python 3 (ipykernel)",
   "language": "python",
   "name": "python3"
  },
  "language_info": {
   "codemirror_mode": {
    "name": "ipython",
    "version": 3
   },
   "file_extension": ".py",
   "mimetype": "text/x-python",
   "name": "python",
   "nbconvert_exporter": "python",
   "pygments_lexer": "ipython3",
   "version": "3.11.5"
  }
 },
 "nbformat": 4,
 "nbformat_minor": 5
}
